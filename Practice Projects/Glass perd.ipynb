{
 "cells": [
  {
   "cell_type": "code",
   "execution_count": 1,
   "id": "870f1029",
   "metadata": {},
   "outputs": [],
   "source": [
    "# importing libraries\n",
    "import pandas as pd\n",
    "from sklearn.linear_model import LogisticRegression\n",
    "from sklearn.neighbors import KNeighborsClassifier\n",
    "from sklearn.ensemble import RandomForestClassifier\n",
    "from sklearn.svm import SVC\n",
    "from sklearn.model_selection import train_test_split, GridSearchCV\n",
    "from sklearn.preprocessing import PowerTransformer\n",
    "from sklearn.metrics import accuracy_score, confusion_matrix, roc_curve, roc_auc_score, classification_report, plot_roc_curve\n",
    "import matplotlib.pyplot as plt\n",
    "import seaborn as sns\n",
    "\n",
    "import warnings\n",
    "warnings.filterwarnings('ignore')\n"
   ]
  },
  {
   "cell_type": "code",
   "execution_count": 2,
   "id": "dff8ae6e",
   "metadata": {},
   "outputs": [],
   "source": [
    "col_names = ['ID', 'RI', 'Na', 'Mg','Al', 'Si', 'K', 'Ca','Ba', 'Fe', 'Glass_type']"
   ]
  },
  {
   "cell_type": "code",
   "execution_count": 3,
   "id": "ec165ecf",
   "metadata": {},
   "outputs": [
    {
     "data": {
      "text/html": [
       "<div>\n",
       "<style scoped>\n",
       "    .dataframe tbody tr th:only-of-type {\n",
       "        vertical-align: middle;\n",
       "    }\n",
       "\n",
       "    .dataframe tbody tr th {\n",
       "        vertical-align: top;\n",
       "    }\n",
       "\n",
       "    .dataframe thead th {\n",
       "        text-align: right;\n",
       "    }\n",
       "</style>\n",
       "<table border=\"1\" class=\"dataframe\">\n",
       "  <thead>\n",
       "    <tr style=\"text-align: right;\">\n",
       "      <th></th>\n",
       "      <th>ID</th>\n",
       "      <th>RI</th>\n",
       "      <th>Na</th>\n",
       "      <th>Mg</th>\n",
       "      <th>Al</th>\n",
       "      <th>Si</th>\n",
       "      <th>K</th>\n",
       "      <th>Ca</th>\n",
       "      <th>Ba</th>\n",
       "      <th>Fe</th>\n",
       "      <th>Glass_type</th>\n",
       "    </tr>\n",
       "  </thead>\n",
       "  <tbody>\n",
       "    <tr>\n",
       "      <th>0</th>\n",
       "      <td>1</td>\n",
       "      <td>1.52101</td>\n",
       "      <td>13.64</td>\n",
       "      <td>4.49</td>\n",
       "      <td>1.10</td>\n",
       "      <td>71.78</td>\n",
       "      <td>0.06</td>\n",
       "      <td>8.75</td>\n",
       "      <td>0.00</td>\n",
       "      <td>0.0</td>\n",
       "      <td>1</td>\n",
       "    </tr>\n",
       "    <tr>\n",
       "      <th>1</th>\n",
       "      <td>2</td>\n",
       "      <td>1.51761</td>\n",
       "      <td>13.89</td>\n",
       "      <td>3.60</td>\n",
       "      <td>1.36</td>\n",
       "      <td>72.73</td>\n",
       "      <td>0.48</td>\n",
       "      <td>7.83</td>\n",
       "      <td>0.00</td>\n",
       "      <td>0.0</td>\n",
       "      <td>1</td>\n",
       "    </tr>\n",
       "    <tr>\n",
       "      <th>2</th>\n",
       "      <td>3</td>\n",
       "      <td>1.51618</td>\n",
       "      <td>13.53</td>\n",
       "      <td>3.55</td>\n",
       "      <td>1.54</td>\n",
       "      <td>72.99</td>\n",
       "      <td>0.39</td>\n",
       "      <td>7.78</td>\n",
       "      <td>0.00</td>\n",
       "      <td>0.0</td>\n",
       "      <td>1</td>\n",
       "    </tr>\n",
       "    <tr>\n",
       "      <th>3</th>\n",
       "      <td>4</td>\n",
       "      <td>1.51766</td>\n",
       "      <td>13.21</td>\n",
       "      <td>3.69</td>\n",
       "      <td>1.29</td>\n",
       "      <td>72.61</td>\n",
       "      <td>0.57</td>\n",
       "      <td>8.22</td>\n",
       "      <td>0.00</td>\n",
       "      <td>0.0</td>\n",
       "      <td>1</td>\n",
       "    </tr>\n",
       "    <tr>\n",
       "      <th>4</th>\n",
       "      <td>5</td>\n",
       "      <td>1.51742</td>\n",
       "      <td>13.27</td>\n",
       "      <td>3.62</td>\n",
       "      <td>1.24</td>\n",
       "      <td>73.08</td>\n",
       "      <td>0.55</td>\n",
       "      <td>8.07</td>\n",
       "      <td>0.00</td>\n",
       "      <td>0.0</td>\n",
       "      <td>1</td>\n",
       "    </tr>\n",
       "    <tr>\n",
       "      <th>...</th>\n",
       "      <td>...</td>\n",
       "      <td>...</td>\n",
       "      <td>...</td>\n",
       "      <td>...</td>\n",
       "      <td>...</td>\n",
       "      <td>...</td>\n",
       "      <td>...</td>\n",
       "      <td>...</td>\n",
       "      <td>...</td>\n",
       "      <td>...</td>\n",
       "      <td>...</td>\n",
       "    </tr>\n",
       "    <tr>\n",
       "      <th>209</th>\n",
       "      <td>210</td>\n",
       "      <td>1.51623</td>\n",
       "      <td>14.14</td>\n",
       "      <td>0.00</td>\n",
       "      <td>2.88</td>\n",
       "      <td>72.61</td>\n",
       "      <td>0.08</td>\n",
       "      <td>9.18</td>\n",
       "      <td>1.06</td>\n",
       "      <td>0.0</td>\n",
       "      <td>7</td>\n",
       "    </tr>\n",
       "    <tr>\n",
       "      <th>210</th>\n",
       "      <td>211</td>\n",
       "      <td>1.51685</td>\n",
       "      <td>14.92</td>\n",
       "      <td>0.00</td>\n",
       "      <td>1.99</td>\n",
       "      <td>73.06</td>\n",
       "      <td>0.00</td>\n",
       "      <td>8.40</td>\n",
       "      <td>1.59</td>\n",
       "      <td>0.0</td>\n",
       "      <td>7</td>\n",
       "    </tr>\n",
       "    <tr>\n",
       "      <th>211</th>\n",
       "      <td>212</td>\n",
       "      <td>1.52065</td>\n",
       "      <td>14.36</td>\n",
       "      <td>0.00</td>\n",
       "      <td>2.02</td>\n",
       "      <td>73.42</td>\n",
       "      <td>0.00</td>\n",
       "      <td>8.44</td>\n",
       "      <td>1.64</td>\n",
       "      <td>0.0</td>\n",
       "      <td>7</td>\n",
       "    </tr>\n",
       "    <tr>\n",
       "      <th>212</th>\n",
       "      <td>213</td>\n",
       "      <td>1.51651</td>\n",
       "      <td>14.38</td>\n",
       "      <td>0.00</td>\n",
       "      <td>1.94</td>\n",
       "      <td>73.61</td>\n",
       "      <td>0.00</td>\n",
       "      <td>8.48</td>\n",
       "      <td>1.57</td>\n",
       "      <td>0.0</td>\n",
       "      <td>7</td>\n",
       "    </tr>\n",
       "    <tr>\n",
       "      <th>213</th>\n",
       "      <td>214</td>\n",
       "      <td>1.51711</td>\n",
       "      <td>14.23</td>\n",
       "      <td>0.00</td>\n",
       "      <td>2.08</td>\n",
       "      <td>73.36</td>\n",
       "      <td>0.00</td>\n",
       "      <td>8.62</td>\n",
       "      <td>1.67</td>\n",
       "      <td>0.0</td>\n",
       "      <td>7</td>\n",
       "    </tr>\n",
       "  </tbody>\n",
       "</table>\n",
       "<p>214 rows × 11 columns</p>\n",
       "</div>"
      ],
      "text/plain": [
       "      ID       RI     Na    Mg    Al     Si     K    Ca    Ba   Fe  Glass_type\n",
       "0      1  1.52101  13.64  4.49  1.10  71.78  0.06  8.75  0.00  0.0           1\n",
       "1      2  1.51761  13.89  3.60  1.36  72.73  0.48  7.83  0.00  0.0           1\n",
       "2      3  1.51618  13.53  3.55  1.54  72.99  0.39  7.78  0.00  0.0           1\n",
       "3      4  1.51766  13.21  3.69  1.29  72.61  0.57  8.22  0.00  0.0           1\n",
       "4      5  1.51742  13.27  3.62  1.24  73.08  0.55  8.07  0.00  0.0           1\n",
       "..   ...      ...    ...   ...   ...    ...   ...   ...   ...  ...         ...\n",
       "209  210  1.51623  14.14  0.00  2.88  72.61  0.08  9.18  1.06  0.0           7\n",
       "210  211  1.51685  14.92  0.00  1.99  73.06  0.00  8.40  1.59  0.0           7\n",
       "211  212  1.52065  14.36  0.00  2.02  73.42  0.00  8.44  1.64  0.0           7\n",
       "212  213  1.51651  14.38  0.00  1.94  73.61  0.00  8.48  1.57  0.0           7\n",
       "213  214  1.51711  14.23  0.00  2.08  73.36  0.00  8.62  1.67  0.0           7\n",
       "\n",
       "[214 rows x 11 columns]"
      ]
     },
     "execution_count": 3,
     "metadata": {},
     "output_type": "execute_result"
    }
   ],
   "source": [
    "data= pd.read_csv(\"https://raw.githubusercontent.com/dsrscientist/dataset3/main/glass.csv\", names=col_names, sep=\",\")\n",
    "data"
   ]
  },
  {
   "cell_type": "code",
   "execution_count": 4,
   "id": "5b658aa0",
   "metadata": {},
   "outputs": [
    {
     "data": {
      "text/plain": [
       "(214, 11)"
      ]
     },
     "execution_count": 4,
     "metadata": {},
     "output_type": "execute_result"
    }
   ],
   "source": [
    "data.shape"
   ]
  },
  {
   "cell_type": "code",
   "execution_count": 5,
   "id": "d905939f",
   "metadata": {},
   "outputs": [
    {
     "data": {
      "text/html": [
       "<div>\n",
       "<style scoped>\n",
       "    .dataframe tbody tr th:only-of-type {\n",
       "        vertical-align: middle;\n",
       "    }\n",
       "\n",
       "    .dataframe tbody tr th {\n",
       "        vertical-align: top;\n",
       "    }\n",
       "\n",
       "    .dataframe thead th {\n",
       "        text-align: right;\n",
       "    }\n",
       "</style>\n",
       "<table border=\"1\" class=\"dataframe\">\n",
       "  <thead>\n",
       "    <tr style=\"text-align: right;\">\n",
       "      <th></th>\n",
       "      <th>ID</th>\n",
       "      <th>RI</th>\n",
       "      <th>Na</th>\n",
       "      <th>Mg</th>\n",
       "      <th>Al</th>\n",
       "      <th>Si</th>\n",
       "      <th>K</th>\n",
       "      <th>Ca</th>\n",
       "      <th>Ba</th>\n",
       "      <th>Fe</th>\n",
       "      <th>Glass_type</th>\n",
       "    </tr>\n",
       "  </thead>\n",
       "  <tbody>\n",
       "    <tr>\n",
       "      <th>count</th>\n",
       "      <td>214.000000</td>\n",
       "      <td>214.000000</td>\n",
       "      <td>214.000000</td>\n",
       "      <td>214.000000</td>\n",
       "      <td>214.000000</td>\n",
       "      <td>214.000000</td>\n",
       "      <td>214.000000</td>\n",
       "      <td>214.000000</td>\n",
       "      <td>214.000000</td>\n",
       "      <td>214.000000</td>\n",
       "      <td>214.000000</td>\n",
       "    </tr>\n",
       "    <tr>\n",
       "      <th>mean</th>\n",
       "      <td>107.500000</td>\n",
       "      <td>1.518365</td>\n",
       "      <td>13.407850</td>\n",
       "      <td>2.684533</td>\n",
       "      <td>1.444907</td>\n",
       "      <td>72.650935</td>\n",
       "      <td>0.497056</td>\n",
       "      <td>8.956963</td>\n",
       "      <td>0.175047</td>\n",
       "      <td>0.057009</td>\n",
       "      <td>2.780374</td>\n",
       "    </tr>\n",
       "    <tr>\n",
       "      <th>std</th>\n",
       "      <td>61.920648</td>\n",
       "      <td>0.003037</td>\n",
       "      <td>0.816604</td>\n",
       "      <td>1.442408</td>\n",
       "      <td>0.499270</td>\n",
       "      <td>0.774546</td>\n",
       "      <td>0.652192</td>\n",
       "      <td>1.423153</td>\n",
       "      <td>0.497219</td>\n",
       "      <td>0.097439</td>\n",
       "      <td>2.103739</td>\n",
       "    </tr>\n",
       "    <tr>\n",
       "      <th>min</th>\n",
       "      <td>1.000000</td>\n",
       "      <td>1.511150</td>\n",
       "      <td>10.730000</td>\n",
       "      <td>0.000000</td>\n",
       "      <td>0.290000</td>\n",
       "      <td>69.810000</td>\n",
       "      <td>0.000000</td>\n",
       "      <td>5.430000</td>\n",
       "      <td>0.000000</td>\n",
       "      <td>0.000000</td>\n",
       "      <td>1.000000</td>\n",
       "    </tr>\n",
       "    <tr>\n",
       "      <th>25%</th>\n",
       "      <td>54.250000</td>\n",
       "      <td>1.516522</td>\n",
       "      <td>12.907500</td>\n",
       "      <td>2.115000</td>\n",
       "      <td>1.190000</td>\n",
       "      <td>72.280000</td>\n",
       "      <td>0.122500</td>\n",
       "      <td>8.240000</td>\n",
       "      <td>0.000000</td>\n",
       "      <td>0.000000</td>\n",
       "      <td>1.000000</td>\n",
       "    </tr>\n",
       "    <tr>\n",
       "      <th>50%</th>\n",
       "      <td>107.500000</td>\n",
       "      <td>1.517680</td>\n",
       "      <td>13.300000</td>\n",
       "      <td>3.480000</td>\n",
       "      <td>1.360000</td>\n",
       "      <td>72.790000</td>\n",
       "      <td>0.555000</td>\n",
       "      <td>8.600000</td>\n",
       "      <td>0.000000</td>\n",
       "      <td>0.000000</td>\n",
       "      <td>2.000000</td>\n",
       "    </tr>\n",
       "    <tr>\n",
       "      <th>75%</th>\n",
       "      <td>160.750000</td>\n",
       "      <td>1.519157</td>\n",
       "      <td>13.825000</td>\n",
       "      <td>3.600000</td>\n",
       "      <td>1.630000</td>\n",
       "      <td>73.087500</td>\n",
       "      <td>0.610000</td>\n",
       "      <td>9.172500</td>\n",
       "      <td>0.000000</td>\n",
       "      <td>0.100000</td>\n",
       "      <td>3.000000</td>\n",
       "    </tr>\n",
       "    <tr>\n",
       "      <th>max</th>\n",
       "      <td>214.000000</td>\n",
       "      <td>1.533930</td>\n",
       "      <td>17.380000</td>\n",
       "      <td>4.490000</td>\n",
       "      <td>3.500000</td>\n",
       "      <td>75.410000</td>\n",
       "      <td>6.210000</td>\n",
       "      <td>16.190000</td>\n",
       "      <td>3.150000</td>\n",
       "      <td>0.510000</td>\n",
       "      <td>7.000000</td>\n",
       "    </tr>\n",
       "  </tbody>\n",
       "</table>\n",
       "</div>"
      ],
      "text/plain": [
       "               ID          RI          Na          Mg          Al          Si  \\\n",
       "count  214.000000  214.000000  214.000000  214.000000  214.000000  214.000000   \n",
       "mean   107.500000    1.518365   13.407850    2.684533    1.444907   72.650935   \n",
       "std     61.920648    0.003037    0.816604    1.442408    0.499270    0.774546   \n",
       "min      1.000000    1.511150   10.730000    0.000000    0.290000   69.810000   \n",
       "25%     54.250000    1.516522   12.907500    2.115000    1.190000   72.280000   \n",
       "50%    107.500000    1.517680   13.300000    3.480000    1.360000   72.790000   \n",
       "75%    160.750000    1.519157   13.825000    3.600000    1.630000   73.087500   \n",
       "max    214.000000    1.533930   17.380000    4.490000    3.500000   75.410000   \n",
       "\n",
       "                K          Ca          Ba          Fe  Glass_type  \n",
       "count  214.000000  214.000000  214.000000  214.000000  214.000000  \n",
       "mean     0.497056    8.956963    0.175047    0.057009    2.780374  \n",
       "std      0.652192    1.423153    0.497219    0.097439    2.103739  \n",
       "min      0.000000    5.430000    0.000000    0.000000    1.000000  \n",
       "25%      0.122500    8.240000    0.000000    0.000000    1.000000  \n",
       "50%      0.555000    8.600000    0.000000    0.000000    2.000000  \n",
       "75%      0.610000    9.172500    0.000000    0.100000    3.000000  \n",
       "max      6.210000   16.190000    3.150000    0.510000    7.000000  "
      ]
     },
     "execution_count": 5,
     "metadata": {},
     "output_type": "execute_result"
    }
   ],
   "source": [
    "data.describe()"
   ]
  },
  {
   "cell_type": "code",
   "execution_count": 6,
   "id": "64cd8bcc",
   "metadata": {},
   "outputs": [
    {
     "data": {
      "text/plain": [
       "ID            0\n",
       "RI            0\n",
       "Na            0\n",
       "Mg            0\n",
       "Al            0\n",
       "Si            0\n",
       "K             0\n",
       "Ca            0\n",
       "Ba            0\n",
       "Fe            0\n",
       "Glass_type    0\n",
       "dtype: int64"
      ]
     },
     "execution_count": 6,
     "metadata": {},
     "output_type": "execute_result"
    }
   ],
   "source": [
    "# checking for missing values\n",
    "data.isna().sum()"
   ]
  },
  {
   "cell_type": "code",
   "execution_count": 7,
   "id": "1464f959",
   "metadata": {},
   "outputs": [
    {
     "name": "stdout",
     "output_type": "stream",
     "text": [
      "<class 'pandas.core.frame.DataFrame'>\n",
      "RangeIndex: 214 entries, 0 to 213\n",
      "Data columns (total 11 columns):\n",
      " #   Column      Non-Null Count  Dtype  \n",
      "---  ------      --------------  -----  \n",
      " 0   ID          214 non-null    int64  \n",
      " 1   RI          214 non-null    float64\n",
      " 2   Na          214 non-null    float64\n",
      " 3   Mg          214 non-null    float64\n",
      " 4   Al          214 non-null    float64\n",
      " 5   Si          214 non-null    float64\n",
      " 6   K           214 non-null    float64\n",
      " 7   Ca          214 non-null    float64\n",
      " 8   Ba          214 non-null    float64\n",
      " 9   Fe          214 non-null    float64\n",
      " 10  Glass_type  214 non-null    int64  \n",
      "dtypes: float64(9), int64(2)\n",
      "memory usage: 18.5 KB\n"
     ]
    }
   ],
   "source": [
    "data.info()"
   ]
  },
  {
   "cell_type": "code",
   "execution_count": 8,
   "id": "3ea187fc",
   "metadata": {},
   "outputs": [
    {
     "data": {
      "text/html": [
       "<div>\n",
       "<style scoped>\n",
       "    .dataframe tbody tr th:only-of-type {\n",
       "        vertical-align: middle;\n",
       "    }\n",
       "\n",
       "    .dataframe tbody tr th {\n",
       "        vertical-align: top;\n",
       "    }\n",
       "\n",
       "    .dataframe thead th {\n",
       "        text-align: right;\n",
       "    }\n",
       "</style>\n",
       "<table border=\"1\" class=\"dataframe\">\n",
       "  <thead>\n",
       "    <tr style=\"text-align: right;\">\n",
       "      <th></th>\n",
       "      <th>RI</th>\n",
       "      <th>Na</th>\n",
       "      <th>Mg</th>\n",
       "      <th>Al</th>\n",
       "      <th>Si</th>\n",
       "      <th>K</th>\n",
       "      <th>Ca</th>\n",
       "      <th>Ba</th>\n",
       "      <th>Fe</th>\n",
       "      <th>Glass_type</th>\n",
       "    </tr>\n",
       "  </thead>\n",
       "  <tbody>\n",
       "    <tr>\n",
       "      <th>0</th>\n",
       "      <td>1.52101</td>\n",
       "      <td>13.64</td>\n",
       "      <td>4.49</td>\n",
       "      <td>1.10</td>\n",
       "      <td>71.78</td>\n",
       "      <td>0.06</td>\n",
       "      <td>8.75</td>\n",
       "      <td>0.0</td>\n",
       "      <td>0.0</td>\n",
       "      <td>1</td>\n",
       "    </tr>\n",
       "    <tr>\n",
       "      <th>1</th>\n",
       "      <td>1.51761</td>\n",
       "      <td>13.89</td>\n",
       "      <td>3.60</td>\n",
       "      <td>1.36</td>\n",
       "      <td>72.73</td>\n",
       "      <td>0.48</td>\n",
       "      <td>7.83</td>\n",
       "      <td>0.0</td>\n",
       "      <td>0.0</td>\n",
       "      <td>1</td>\n",
       "    </tr>\n",
       "    <tr>\n",
       "      <th>2</th>\n",
       "      <td>1.51618</td>\n",
       "      <td>13.53</td>\n",
       "      <td>3.55</td>\n",
       "      <td>1.54</td>\n",
       "      <td>72.99</td>\n",
       "      <td>0.39</td>\n",
       "      <td>7.78</td>\n",
       "      <td>0.0</td>\n",
       "      <td>0.0</td>\n",
       "      <td>1</td>\n",
       "    </tr>\n",
       "    <tr>\n",
       "      <th>3</th>\n",
       "      <td>1.51766</td>\n",
       "      <td>13.21</td>\n",
       "      <td>3.69</td>\n",
       "      <td>1.29</td>\n",
       "      <td>72.61</td>\n",
       "      <td>0.57</td>\n",
       "      <td>8.22</td>\n",
       "      <td>0.0</td>\n",
       "      <td>0.0</td>\n",
       "      <td>1</td>\n",
       "    </tr>\n",
       "    <tr>\n",
       "      <th>4</th>\n",
       "      <td>1.51742</td>\n",
       "      <td>13.27</td>\n",
       "      <td>3.62</td>\n",
       "      <td>1.24</td>\n",
       "      <td>73.08</td>\n",
       "      <td>0.55</td>\n",
       "      <td>8.07</td>\n",
       "      <td>0.0</td>\n",
       "      <td>0.0</td>\n",
       "      <td>1</td>\n",
       "    </tr>\n",
       "  </tbody>\n",
       "</table>\n",
       "</div>"
      ],
      "text/plain": [
       "        RI     Na    Mg    Al     Si     K    Ca   Ba   Fe  Glass_type\n",
       "0  1.52101  13.64  4.49  1.10  71.78  0.06  8.75  0.0  0.0           1\n",
       "1  1.51761  13.89  3.60  1.36  72.73  0.48  7.83  0.0  0.0           1\n",
       "2  1.51618  13.53  3.55  1.54  72.99  0.39  7.78  0.0  0.0           1\n",
       "3  1.51766  13.21  3.69  1.29  72.61  0.57  8.22  0.0  0.0           1\n",
       "4  1.51742  13.27  3.62  1.24  73.08  0.55  8.07  0.0  0.0           1"
      ]
     },
     "execution_count": 8,
     "metadata": {},
     "output_type": "execute_result"
    }
   ],
   "source": [
    "#dropping id from the dataset\n",
    "data= data.drop(columns=['ID'])\n",
    "data.head()"
   ]
  },
  {
   "cell_type": "code",
   "execution_count": 9,
   "id": "951e0aeb",
   "metadata": {},
   "outputs": [],
   "source": [
    "# All the given data is numerical now lets visualize the data"
   ]
  },
  {
   "cell_type": "code",
   "execution_count": 10,
   "id": "a4651c9a",
   "metadata": {},
   "outputs": [
    {
     "data": {
      "text/plain": [
       "<function matplotlib.pyplot.show(close=None, block=None)>"
      ]
     },
     "execution_count": 10,
     "metadata": {},
     "output_type": "execute_result"
    },
    {
     "data": {
      "image/png": "[encoded data removed]",
      "text/plain": [
       "<Figure size 1440x1440 with 10 Axes>"
      ]
     },
     "metadata": {
      "needs_background": "light"
     },
     "output_type": "display_data"
    }
   ],
   "source": [
    "# Data visualization\n",
    "plt.figure(figsize=(20,20))\n",
    "plotnumber = 1\n",
    "for column in data:\n",
    "    if plotnumber <=10:\n",
    "        ax= plt.subplot(4,3,plotnumber)\n",
    "        sns.distplot(data[column])\n",
    "        plt.xlabel(column,fontsize=20)\n",
    "    plotnumber+=1\n",
    "plt.show"
   ]
  },
  {
   "cell_type": "code",
   "execution_count": 11,
   "id": "681c91d7",
   "metadata": {},
   "outputs": [],
   "source": [
    "# Some of the features look a bit skewed "
   ]
  },
  {
   "cell_type": "code",
   "execution_count": 12,
   "id": "7462a3f3",
   "metadata": {},
   "outputs": [
    {
     "data": {
      "text/plain": [
       "RI            1.625431\n",
       "Na            0.454181\n",
       "Mg           -1.152559\n",
       "Al            0.907290\n",
       "Si           -0.730447\n",
       "K             6.551648\n",
       "Ca            2.047054\n",
       "Ba            3.416425\n",
       "Fe            1.754327\n",
       "Glass_type    1.114915\n",
       "dtype: float64"
      ]
     },
     "execution_count": 12,
     "metadata": {},
     "output_type": "execute_result"
    }
   ],
   "source": [
    "#checking for skewness\n",
    "data.skew()"
   ]
  },
  {
   "cell_type": "code",
   "execution_count": 13,
   "id": "a41c65eb",
   "metadata": {},
   "outputs": [],
   "source": [
    "# Above observation reveals that some of the features have skewess outside the range of +/- 0.5"
   ]
  },
  {
   "cell_type": "code",
   "execution_count": 14,
   "id": "90c18a2f",
   "metadata": {},
   "outputs": [
    {
     "data": {
      "image/png": "[encoded data removed]",
      "text/plain": [
       "<Figure size 1440x1440 with 10 Axes>"
      ]
     },
     "metadata": {
      "needs_background": "light"
     },
     "output_type": "display_data"
    }
   ],
   "source": [
    "# Checking for outliers using boxplot\n",
    "plt.figure(figsize=(20,20))\n",
    "graph =1\n",
    "for column in data:\n",
    "    if graph <=10:\n",
    "        plt.subplot(4,3,graph)\n",
    "        ax=sns.boxplot(data=data[column])\n",
    "        plt.xlabel(column,fontsize=15)\n",
    "    graph+=1\n",
    "plt.show()"
   ]
  },
  {
   "cell_type": "code",
   "execution_count": 15,
   "id": "ef9d968a",
   "metadata": {},
   "outputs": [],
   "source": [
    "# from the above graphs we can say that almost all columns have outliers which is leading to skewness of data "
   ]
  },
  {
   "cell_type": "code",
   "execution_count": 16,
   "id": "c2492a7d",
   "metadata": {},
   "outputs": [],
   "source": [
    "features = data.drop(columns=\"Glass_type\")"
   ]
  },
  {
   "cell_type": "code",
   "execution_count": 17,
   "id": "aecb786e",
   "metadata": {},
   "outputs": [
    {
     "data": {
      "text/html": [
       "<div>\n",
       "<style scoped>\n",
       "    .dataframe tbody tr th:only-of-type {\n",
       "        vertical-align: middle;\n",
       "    }\n",
       "\n",
       "    .dataframe tbody tr th {\n",
       "        vertical-align: top;\n",
       "    }\n",
       "\n",
       "    .dataframe thead th {\n",
       "        text-align: right;\n",
       "    }\n",
       "</style>\n",
       "<table border=\"1\" class=\"dataframe\">\n",
       "  <thead>\n",
       "    <tr style=\"text-align: right;\">\n",
       "      <th></th>\n",
       "      <th>RI</th>\n",
       "      <th>Na</th>\n",
       "      <th>Mg</th>\n",
       "      <th>Al</th>\n",
       "      <th>Si</th>\n",
       "      <th>K</th>\n",
       "      <th>Ca</th>\n",
       "      <th>Ba</th>\n",
       "      <th>Fe</th>\n",
       "    </tr>\n",
       "  </thead>\n",
       "  <tbody>\n",
       "    <tr>\n",
       "      <th>0</th>\n",
       "      <td>1.52101</td>\n",
       "      <td>13.64</td>\n",
       "      <td>4.49</td>\n",
       "      <td>1.10</td>\n",
       "      <td>71.78</td>\n",
       "      <td>0.06</td>\n",
       "      <td>8.75</td>\n",
       "      <td>0.0</td>\n",
       "      <td>0.0</td>\n",
       "    </tr>\n",
       "    <tr>\n",
       "      <th>1</th>\n",
       "      <td>1.51761</td>\n",
       "      <td>13.89</td>\n",
       "      <td>3.60</td>\n",
       "      <td>1.36</td>\n",
       "      <td>72.73</td>\n",
       "      <td>0.48</td>\n",
       "      <td>7.83</td>\n",
       "      <td>0.0</td>\n",
       "      <td>0.0</td>\n",
       "    </tr>\n",
       "    <tr>\n",
       "      <th>2</th>\n",
       "      <td>1.51618</td>\n",
       "      <td>13.53</td>\n",
       "      <td>3.55</td>\n",
       "      <td>1.54</td>\n",
       "      <td>72.99</td>\n",
       "      <td>0.39</td>\n",
       "      <td>7.78</td>\n",
       "      <td>0.0</td>\n",
       "      <td>0.0</td>\n",
       "    </tr>\n",
       "    <tr>\n",
       "      <th>3</th>\n",
       "      <td>1.51766</td>\n",
       "      <td>13.21</td>\n",
       "      <td>3.69</td>\n",
       "      <td>1.29</td>\n",
       "      <td>72.61</td>\n",
       "      <td>0.57</td>\n",
       "      <td>8.22</td>\n",
       "      <td>0.0</td>\n",
       "      <td>0.0</td>\n",
       "    </tr>\n",
       "    <tr>\n",
       "      <th>4</th>\n",
       "      <td>1.51742</td>\n",
       "      <td>13.27</td>\n",
       "      <td>3.62</td>\n",
       "      <td>1.24</td>\n",
       "      <td>73.08</td>\n",
       "      <td>0.55</td>\n",
       "      <td>8.07</td>\n",
       "      <td>0.0</td>\n",
       "      <td>0.0</td>\n",
       "    </tr>\n",
       "  </tbody>\n",
       "</table>\n",
       "</div>"
      ],
      "text/plain": [
       "        RI     Na    Mg    Al     Si     K    Ca   Ba   Fe\n",
       "0  1.52101  13.64  4.49  1.10  71.78  0.06  8.75  0.0  0.0\n",
       "1  1.51761  13.89  3.60  1.36  72.73  0.48  7.83  0.0  0.0\n",
       "2  1.51618  13.53  3.55  1.54  72.99  0.39  7.78  0.0  0.0\n",
       "3  1.51766  13.21  3.69  1.29  72.61  0.57  8.22  0.0  0.0\n",
       "4  1.51742  13.27  3.62  1.24  73.08  0.55  8.07  0.0  0.0"
      ]
     },
     "execution_count": 17,
     "metadata": {},
     "output_type": "execute_result"
    }
   ],
   "source": [
    "features.head()"
   ]
  },
  {
   "cell_type": "code",
   "execution_count": 18,
   "id": "b423e5c5",
   "metadata": {},
   "outputs": [
    {
     "data": {
      "text/plain": [
       "(array([105, 106, 106, 106, 106, 106, 107, 107, 107, 110, 111, 112, 112,\n",
       "        131, 145, 162, 163, 163, 163, 171, 171, 172, 172, 174, 184, 184,\n",
       "        188, 189, 201, 201, 203, 207, 213], dtype=int64),\n",
       " array([6, 0, 1, 4, 6, 7, 0, 4, 6, 6, 6, 0, 6, 6, 8, 8, 3, 4, 7, 3, 5, 3,\n",
       "        5, 8, 1, 4, 4, 7, 4, 5, 7, 7, 7], dtype=int64))"
      ]
     },
     "execution_count": 18,
     "metadata": {},
     "output_type": "execute_result"
    }
   ],
   "source": [
    "#Treating outliers:\n",
    "# z-score method\n",
    "from scipy.stats import zscore\n",
    "import numpy as np\n",
    "z=np.abs(zscore(features))\n",
    "threshold=3\n",
    "outliers = np.where(z>3)\n",
    "outliers"
   ]
  },
  {
   "cell_type": "code",
   "execution_count": 19,
   "id": "ef6b4d59",
   "metadata": {},
   "outputs": [
    {
     "data": {
      "text/html": [
       "<div>\n",
       "<style scoped>\n",
       "    .dataframe tbody tr th:only-of-type {\n",
       "        vertical-align: middle;\n",
       "    }\n",
       "\n",
       "    .dataframe tbody tr th {\n",
       "        vertical-align: top;\n",
       "    }\n",
       "\n",
       "    .dataframe thead th {\n",
       "        text-align: right;\n",
       "    }\n",
       "</style>\n",
       "<table border=\"1\" class=\"dataframe\">\n",
       "  <thead>\n",
       "    <tr style=\"text-align: right;\">\n",
       "      <th></th>\n",
       "      <th>RI</th>\n",
       "      <th>Na</th>\n",
       "      <th>Mg</th>\n",
       "      <th>Al</th>\n",
       "      <th>Si</th>\n",
       "      <th>K</th>\n",
       "      <th>Ca</th>\n",
       "      <th>Ba</th>\n",
       "      <th>Fe</th>\n",
       "      <th>Glass_type</th>\n",
       "    </tr>\n",
       "  </thead>\n",
       "  <tbody>\n",
       "    <tr>\n",
       "      <th>0</th>\n",
       "      <td>1.52101</td>\n",
       "      <td>13.64</td>\n",
       "      <td>4.49</td>\n",
       "      <td>1.10</td>\n",
       "      <td>71.78</td>\n",
       "      <td>0.06</td>\n",
       "      <td>8.75</td>\n",
       "      <td>0.00</td>\n",
       "      <td>0.0</td>\n",
       "      <td>1</td>\n",
       "    </tr>\n",
       "    <tr>\n",
       "      <th>1</th>\n",
       "      <td>1.51761</td>\n",
       "      <td>13.89</td>\n",
       "      <td>3.60</td>\n",
       "      <td>1.36</td>\n",
       "      <td>72.73</td>\n",
       "      <td>0.48</td>\n",
       "      <td>7.83</td>\n",
       "      <td>0.00</td>\n",
       "      <td>0.0</td>\n",
       "      <td>1</td>\n",
       "    </tr>\n",
       "    <tr>\n",
       "      <th>2</th>\n",
       "      <td>1.51618</td>\n",
       "      <td>13.53</td>\n",
       "      <td>3.55</td>\n",
       "      <td>1.54</td>\n",
       "      <td>72.99</td>\n",
       "      <td>0.39</td>\n",
       "      <td>7.78</td>\n",
       "      <td>0.00</td>\n",
       "      <td>0.0</td>\n",
       "      <td>1</td>\n",
       "    </tr>\n",
       "    <tr>\n",
       "      <th>3</th>\n",
       "      <td>1.51766</td>\n",
       "      <td>13.21</td>\n",
       "      <td>3.69</td>\n",
       "      <td>1.29</td>\n",
       "      <td>72.61</td>\n",
       "      <td>0.57</td>\n",
       "      <td>8.22</td>\n",
       "      <td>0.00</td>\n",
       "      <td>0.0</td>\n",
       "      <td>1</td>\n",
       "    </tr>\n",
       "    <tr>\n",
       "      <th>4</th>\n",
       "      <td>1.51742</td>\n",
       "      <td>13.27</td>\n",
       "      <td>3.62</td>\n",
       "      <td>1.24</td>\n",
       "      <td>73.08</td>\n",
       "      <td>0.55</td>\n",
       "      <td>8.07</td>\n",
       "      <td>0.00</td>\n",
       "      <td>0.0</td>\n",
       "      <td>1</td>\n",
       "    </tr>\n",
       "    <tr>\n",
       "      <th>...</th>\n",
       "      <td>...</td>\n",
       "      <td>...</td>\n",
       "      <td>...</td>\n",
       "      <td>...</td>\n",
       "      <td>...</td>\n",
       "      <td>...</td>\n",
       "      <td>...</td>\n",
       "      <td>...</td>\n",
       "      <td>...</td>\n",
       "      <td>...</td>\n",
       "    </tr>\n",
       "    <tr>\n",
       "      <th>208</th>\n",
       "      <td>1.51640</td>\n",
       "      <td>14.37</td>\n",
       "      <td>0.00</td>\n",
       "      <td>2.74</td>\n",
       "      <td>72.85</td>\n",
       "      <td>0.00</td>\n",
       "      <td>9.45</td>\n",
       "      <td>0.54</td>\n",
       "      <td>0.0</td>\n",
       "      <td>7</td>\n",
       "    </tr>\n",
       "    <tr>\n",
       "      <th>209</th>\n",
       "      <td>1.51623</td>\n",
       "      <td>14.14</td>\n",
       "      <td>0.00</td>\n",
       "      <td>2.88</td>\n",
       "      <td>72.61</td>\n",
       "      <td>0.08</td>\n",
       "      <td>9.18</td>\n",
       "      <td>1.06</td>\n",
       "      <td>0.0</td>\n",
       "      <td>7</td>\n",
       "    </tr>\n",
       "    <tr>\n",
       "      <th>210</th>\n",
       "      <td>1.51685</td>\n",
       "      <td>14.92</td>\n",
       "      <td>0.00</td>\n",
       "      <td>1.99</td>\n",
       "      <td>73.06</td>\n",
       "      <td>0.00</td>\n",
       "      <td>8.40</td>\n",
       "      <td>1.59</td>\n",
       "      <td>0.0</td>\n",
       "      <td>7</td>\n",
       "    </tr>\n",
       "    <tr>\n",
       "      <th>211</th>\n",
       "      <td>1.52065</td>\n",
       "      <td>14.36</td>\n",
       "      <td>0.00</td>\n",
       "      <td>2.02</td>\n",
       "      <td>73.42</td>\n",
       "      <td>0.00</td>\n",
       "      <td>8.44</td>\n",
       "      <td>1.64</td>\n",
       "      <td>0.0</td>\n",
       "      <td>7</td>\n",
       "    </tr>\n",
       "    <tr>\n",
       "      <th>212</th>\n",
       "      <td>1.51651</td>\n",
       "      <td>14.38</td>\n",
       "      <td>0.00</td>\n",
       "      <td>1.94</td>\n",
       "      <td>73.61</td>\n",
       "      <td>0.00</td>\n",
       "      <td>8.48</td>\n",
       "      <td>1.57</td>\n",
       "      <td>0.0</td>\n",
       "      <td>7</td>\n",
       "    </tr>\n",
       "  </tbody>\n",
       "</table>\n",
       "<p>194 rows × 10 columns</p>\n",
       "</div>"
      ],
      "text/plain": [
       "          RI     Na    Mg    Al     Si     K    Ca    Ba   Fe  Glass_type\n",
       "0    1.52101  13.64  4.49  1.10  71.78  0.06  8.75  0.00  0.0           1\n",
       "1    1.51761  13.89  3.60  1.36  72.73  0.48  7.83  0.00  0.0           1\n",
       "2    1.51618  13.53  3.55  1.54  72.99  0.39  7.78  0.00  0.0           1\n",
       "3    1.51766  13.21  3.69  1.29  72.61  0.57  8.22  0.00  0.0           1\n",
       "4    1.51742  13.27  3.62  1.24  73.08  0.55  8.07  0.00  0.0           1\n",
       "..       ...    ...   ...   ...    ...   ...   ...   ...  ...         ...\n",
       "208  1.51640  14.37  0.00  2.74  72.85  0.00  9.45  0.54  0.0           7\n",
       "209  1.51623  14.14  0.00  2.88  72.61  0.08  9.18  1.06  0.0           7\n",
       "210  1.51685  14.92  0.00  1.99  73.06  0.00  8.40  1.59  0.0           7\n",
       "211  1.52065  14.36  0.00  2.02  73.42  0.00  8.44  1.64  0.0           7\n",
       "212  1.51651  14.38  0.00  1.94  73.61  0.00  8.48  1.57  0.0           7\n",
       "\n",
       "[194 rows x 10 columns]"
      ]
     },
     "execution_count": 19,
     "metadata": {},
     "output_type": "execute_result"
    }
   ],
   "source": [
    "new_data=data.drop(outliers[0])\n",
    "new_data"
   ]
  },
  {
   "cell_type": "code",
   "execution_count": 20,
   "id": "256722a9",
   "metadata": {},
   "outputs": [
    {
     "data": {
      "text/plain": [
       "9.345794392523365"
      ]
     },
     "execution_count": 20,
     "metadata": {},
     "output_type": "execute_result"
    }
   ],
   "source": [
    "data_loss=((214-194)/214)*100\n",
    "data_loss"
   ]
  },
  {
   "cell_type": "code",
   "execution_count": 21,
   "id": "b733a228",
   "metadata": {},
   "outputs": [
    {
     "data": {
      "text/plain": [
       "RI            0.952733\n",
       "Na            0.371482\n",
       "Mg           -1.528849\n",
       "Al            0.658259\n",
       "Si           -0.425450\n",
       "K             0.303175\n",
       "Ca            1.077962\n",
       "Ba            3.188587\n",
       "Fe            1.486479\n",
       "Glass_type    1.284007\n",
       "dtype: float64"
      ]
     },
     "execution_count": 21,
     "metadata": {},
     "output_type": "execute_result"
    }
   ],
   "source": [
    "#checking for skewness\n",
    "new_data.skew()"
   ]
  },
  {
   "cell_type": "code",
   "execution_count": 22,
   "id": "63669de8",
   "metadata": {},
   "outputs": [],
   "source": [
    "# If the outliers r deleted we wolud loose almost 10% of our data which i does not seem wise\n",
    "# Will use Power Transform to deal with outliers and scaling the features\n"
   ]
  },
  {
   "cell_type": "code",
   "execution_count": 23,
   "id": "a3ca3c6b",
   "metadata": {},
   "outputs": [
    {
     "data": {
      "image/png": "[encoded data removed]",
      "text/plain": [
       "<Figure size 864x576 with 2 Axes>"
      ]
     },
     "metadata": {
      "needs_background": "light"
     },
     "output_type": "display_data"
    }
   ],
   "source": [
    "# Plotting heat map to check for multicollinerity and labelv/s feature relationship\n",
    "df_corr = new_data.corr().abs()\n",
    "plt.figure(figsize=(12,8))\n",
    "sns.heatmap(df_corr, annot= True, annot_kws ={'size':10})\n",
    "plt.show()\n"
   ]
  },
  {
   "cell_type": "code",
   "execution_count": 24,
   "id": "f406c322",
   "metadata": {},
   "outputs": [],
   "source": [
    "#We observe \n",
    "#Mg and Ba have a strong relation with Glass Type(Label)\n",
    "# Refraction(RI) has a strong relation with Ca and Si - need to check for multiollinearity \n",
    "# Na and K also have a strong relation -  need to check for multiollinearity \n",
    "\n"
   ]
  },
  {
   "cell_type": "code",
   "execution_count": 25,
   "id": "765181d2",
   "metadata": {},
   "outputs": [],
   "source": [
    "# Dividing data into feature and label\n",
    "X= data.drop(columns=['Glass_type'])\n",
    "Y= data['Glass_type']"
   ]
  },
  {
   "cell_type": "code",
   "execution_count": 26,
   "id": "1ead444e",
   "metadata": {},
   "outputs": [],
   "source": [
    "#Applying Power Transformer\n",
    "p_transformer = PowerTransformer()\n",
    "X_scaled = pd.DataFrame(p_transformer.fit_transform(X), columns=X.columns)\n"
   ]
  },
  {
   "cell_type": "code",
   "execution_count": 27,
   "id": "e54873ff",
   "metadata": {},
   "outputs": [
    {
     "data": {
      "text/plain": [
       "RI    0.000000\n",
       "Na   -0.008973\n",
       "Mg   -0.889528\n",
       "Al    0.000219\n",
       "Si    0.130384\n",
       "K    -0.071816\n",
       "Ca   -0.209314\n",
       "Ba    1.824175\n",
       "Fe    0.858508\n",
       "dtype: float64"
      ]
     },
     "execution_count": 27,
     "metadata": {},
     "output_type": "execute_result"
    }
   ],
   "source": [
    "#Checking for skewness\n",
    "X_scaled.skew()"
   ]
  },
  {
   "cell_type": "code",
   "execution_count": 28,
   "id": "d158057a",
   "metadata": {},
   "outputs": [],
   "source": [
    "#skewness seems to have reduced"
   ]
  },
  {
   "cell_type": "code",
   "execution_count": 29,
   "id": "4d4017aa",
   "metadata": {},
   "outputs": [
    {
     "data": {
      "text/html": [
       "<div>\n",
       "<style scoped>\n",
       "    .dataframe tbody tr th:only-of-type {\n",
       "        vertical-align: middle;\n",
       "    }\n",
       "\n",
       "    .dataframe tbody tr th {\n",
       "        vertical-align: top;\n",
       "    }\n",
       "\n",
       "    .dataframe thead th {\n",
       "        text-align: right;\n",
       "    }\n",
       "</style>\n",
       "<table border=\"1\" class=\"dataframe\">\n",
       "  <thead>\n",
       "    <tr style=\"text-align: right;\">\n",
       "      <th></th>\n",
       "      <th>vif</th>\n",
       "      <th>feature</th>\n",
       "    </tr>\n",
       "  </thead>\n",
       "  <tbody>\n",
       "    <tr>\n",
       "      <th>0</th>\n",
       "      <td>6.360232</td>\n",
       "      <td>RI</td>\n",
       "    </tr>\n",
       "    <tr>\n",
       "      <th>1</th>\n",
       "      <td>3.285308</td>\n",
       "      <td>Na</td>\n",
       "    </tr>\n",
       "    <tr>\n",
       "      <th>2</th>\n",
       "      <td>3.872582</td>\n",
       "      <td>Mg</td>\n",
       "    </tr>\n",
       "    <tr>\n",
       "      <th>3</th>\n",
       "      <td>2.381283</td>\n",
       "      <td>Al</td>\n",
       "    </tr>\n",
       "    <tr>\n",
       "      <th>4</th>\n",
       "      <td>1.636344</td>\n",
       "      <td>Si</td>\n",
       "    </tr>\n",
       "    <tr>\n",
       "      <th>5</th>\n",
       "      <td>4.014706</td>\n",
       "      <td>K</td>\n",
       "    </tr>\n",
       "    <tr>\n",
       "      <th>6</th>\n",
       "      <td>5.410871</td>\n",
       "      <td>Ca</td>\n",
       "    </tr>\n",
       "    <tr>\n",
       "      <th>7</th>\n",
       "      <td>2.621246</td>\n",
       "      <td>Ba</td>\n",
       "    </tr>\n",
       "    <tr>\n",
       "      <th>8</th>\n",
       "      <td>1.092056</td>\n",
       "      <td>Fe</td>\n",
       "    </tr>\n",
       "  </tbody>\n",
       "</table>\n",
       "</div>"
      ],
      "text/plain": [
       "        vif feature\n",
       "0  6.360232      RI\n",
       "1  3.285308      Na\n",
       "2  3.872582      Mg\n",
       "3  2.381283      Al\n",
       "4  1.636344      Si\n",
       "5  4.014706       K\n",
       "6  5.410871      Ca\n",
       "7  2.621246      Ba\n",
       "8  1.092056      Fe"
      ]
     },
     "execution_count": 29,
     "metadata": {},
     "output_type": "execute_result"
    }
   ],
   "source": [
    "#Using VIF to check for muliticolinearity:\n",
    "from statsmodels.stats.outliers_influence import variance_inflation_factor\n",
    "vif= pd.DataFrame()\n",
    "vif['vif']=[variance_inflation_factor(X_scaled,i) for i in range(X_scaled.shape[1])]\n",
    "vif['feature']= X.columns\n",
    "vif"
   ]
  },
  {
   "cell_type": "code",
   "execution_count": 30,
   "id": "8a14690b",
   "metadata": {},
   "outputs": [],
   "source": [
    "#Since vif for all the features is less than 10 we will use all the features"
   ]
  },
  {
   "cell_type": "code",
   "execution_count": 31,
   "id": "37c29b03",
   "metadata": {},
   "outputs": [
    {
     "name": "stdout",
     "output_type": "stream",
     "text": [
      "2    35.514019\n",
      "1    32.710280\n",
      "7    13.551402\n",
      "3     7.943925\n",
      "5     6.074766\n",
      "6     4.205607\n",
      "Name: Glass_type, dtype: float64\n"
     ]
    }
   ],
   "source": [
    "# checking unique values in the label:\n",
    "print(Y.value_counts(normalize=True, dropna=False)*100)"
   ]
  },
  {
   "cell_type": "code",
   "execution_count": 32,
   "id": "e4098903",
   "metadata": {},
   "outputs": [
    {
     "data": {
      "text/plain": [
       "<function matplotlib.pyplot.show(close=None, block=None)>"
      ]
     },
     "execution_count": 32,
     "metadata": {},
     "output_type": "execute_result"
    },
    {
     "data": {
      "image/png": "[encoded data removed]",
      "text/plain": [
       "<Figure size 432x288 with 1 Axes>"
      ]
     },
     "metadata": {
      "needs_background": "light"
     },
     "output_type": "display_data"
    }
   ],
   "source": [
    "sns.countplot(Y)\n",
    "plt.show"
   ]
  },
  {
   "cell_type": "code",
   "execution_count": 33,
   "id": "90e2bd4d",
   "metadata": {},
   "outputs": [],
   "source": [
    "g_typ = []\n",
    "for i in Y:\n",
    "    if i<5:\n",
    "        g_typ.append(0)\n",
    "    else:\n",
    "        g_typ.append(1)\n"
   ]
  },
  {
   "cell_type": "code",
   "execution_count": 34,
   "id": "0378992b",
   "metadata": {},
   "outputs": [
    {
     "data": {
      "text/html": [
       "<div>\n",
       "<style scoped>\n",
       "    .dataframe tbody tr th:only-of-type {\n",
       "        vertical-align: middle;\n",
       "    }\n",
       "\n",
       "    .dataframe tbody tr th {\n",
       "        vertical-align: top;\n",
       "    }\n",
       "\n",
       "    .dataframe thead th {\n",
       "        text-align: right;\n",
       "    }\n",
       "</style>\n",
       "<table border=\"1\" class=\"dataframe\">\n",
       "  <thead>\n",
       "    <tr style=\"text-align: right;\">\n",
       "      <th></th>\n",
       "      <th>g_typ</th>\n",
       "    </tr>\n",
       "  </thead>\n",
       "  <tbody>\n",
       "    <tr>\n",
       "      <th>0</th>\n",
       "      <td>0</td>\n",
       "    </tr>\n",
       "    <tr>\n",
       "      <th>1</th>\n",
       "      <td>0</td>\n",
       "    </tr>\n",
       "    <tr>\n",
       "      <th>2</th>\n",
       "      <td>0</td>\n",
       "    </tr>\n",
       "    <tr>\n",
       "      <th>3</th>\n",
       "      <td>0</td>\n",
       "    </tr>\n",
       "    <tr>\n",
       "      <th>4</th>\n",
       "      <td>0</td>\n",
       "    </tr>\n",
       "    <tr>\n",
       "      <th>...</th>\n",
       "      <td>...</td>\n",
       "    </tr>\n",
       "    <tr>\n",
       "      <th>209</th>\n",
       "      <td>1</td>\n",
       "    </tr>\n",
       "    <tr>\n",
       "      <th>210</th>\n",
       "      <td>1</td>\n",
       "    </tr>\n",
       "    <tr>\n",
       "      <th>211</th>\n",
       "      <td>1</td>\n",
       "    </tr>\n",
       "    <tr>\n",
       "      <th>212</th>\n",
       "      <td>1</td>\n",
       "    </tr>\n",
       "    <tr>\n",
       "      <th>213</th>\n",
       "      <td>1</td>\n",
       "    </tr>\n",
       "  </tbody>\n",
       "</table>\n",
       "<p>214 rows × 1 columns</p>\n",
       "</div>"
      ],
      "text/plain": [
       "     g_typ\n",
       "0        0\n",
       "1        0\n",
       "2        0\n",
       "3        0\n",
       "4        0\n",
       "..     ...\n",
       "209      1\n",
       "210      1\n",
       "211      1\n",
       "212      1\n",
       "213      1\n",
       "\n",
       "[214 rows x 1 columns]"
      ]
     },
     "execution_count": 34,
     "metadata": {},
     "output_type": "execute_result"
    }
   ],
   "source": [
    "y= pd.DataFrame({'g_typ':g_typ})\n",
    "y"
   ]
  },
  {
   "cell_type": "code",
   "execution_count": 35,
   "id": "14adc453",
   "metadata": {},
   "outputs": [
    {
     "data": {
      "image/png": "[encoded data removed]",
      "text/plain": [
       "<Figure size 432x288 with 1 Axes>"
      ]
     },
     "metadata": {
      "needs_background": "light"
     },
     "output_type": "display_data"
    }
   ],
   "source": [
    "sns.countplot(y['g_typ'])\n",
    "plt.show()"
   ]
  },
  {
   "cell_type": "code",
   "execution_count": 36,
   "id": "a1262378",
   "metadata": {},
   "outputs": [
    {
     "name": "stdout",
     "output_type": "stream",
     "text": [
      "g_typ\n",
      "0        76.168224\n",
      "1        23.831776\n",
      "dtype: float64\n"
     ]
    }
   ],
   "source": [
    "# checking unique values in the label:\n",
    "print(y.value_counts(normalize=True, dropna=False)*100)"
   ]
  },
  {
   "cell_type": "code",
   "execution_count": 37,
   "id": "d4407fe5",
   "metadata": {},
   "outputs": [],
   "source": [
    "# the target is imbalanced \n",
    "#we will balance it using SMOTE\n",
    "from imblearn.over_sampling import SMOTE"
   ]
  },
  {
   "cell_type": "code",
   "execution_count": 38,
   "id": "ab5b21c8",
   "metadata": {},
   "outputs": [],
   "source": [
    "#traintestsplit\n",
    "x_train,x_test,y_train,y_test = train_test_split (X_scaled,y, test_size=0.25, random_state = 285)"
   ]
  },
  {
   "cell_type": "code",
   "execution_count": 39,
   "id": "2e1d4ade",
   "metadata": {},
   "outputs": [],
   "source": [
    "x_train_rs,y_train_rs= SMOTE().fit_resample(x_train,y_train)"
   ]
  },
  {
   "cell_type": "code",
   "execution_count": 40,
   "id": "cdf6ca62",
   "metadata": {},
   "outputs": [
    {
     "data": {
      "image/png": "[encoded data removed]",
      "text/plain": [
       "<Figure size 432x288 with 1 Axes>"
      ]
     },
     "metadata": {
      "needs_background": "light"
     },
     "output_type": "display_data"
    }
   ],
   "source": [
    "sns.countplot(y_train_rs['g_typ'])\n",
    "plt.show()"
   ]
  },
  {
   "cell_type": "code",
   "execution_count": 41,
   "id": "da9081c5",
   "metadata": {},
   "outputs": [],
   "source": [
    "# Target is balanced"
   ]
  },
  {
   "cell_type": "code",
   "execution_count": 42,
   "id": "b4eada9e",
   "metadata": {},
   "outputs": [],
   "source": [
    "# Model Selection\n",
    "def model_selection (algorithm, x_train_rs,y_train_rs,x_test,y_test):\n",
    "    algorithm.fit(x_train_rs,y_train_rs)\n",
    "    pred_train = algorithm.predict(x_train_rs)\n",
    "    pred_test = algorithm.predict(x_test)\n",
    "    print (\"Acuraccy of training model :\",accuracy_score(y_train_rs,pred_train))\n",
    "    print (\"Accuracy of testing model :\",accuracy_score(y_test,pred_test))\n",
    "    print (\"Classification report of training data :\",classification_report(y_train_rs,pred_train))\n",
    "    print (\"Classification report of test data : \",classification_report(y_test,pred_test))\n",
    "    print (\"Confusion Matrix \\n\",confusion_matrix(y_test,pred_test))\n",
    "    \n",
    "        "
   ]
  },
  {
   "cell_type": "code",
   "execution_count": 43,
   "id": "e13ed31f",
   "metadata": {},
   "outputs": [
    {
     "name": "stdout",
     "output_type": "stream",
     "text": [
      "Acuraccy of training model : 0.9710743801652892\n",
      "Accuracy of testing model : 0.9814814814814815\n",
      "Classification report of training data :               precision    recall  f1-score   support\n",
      "\n",
      "           0       0.97      0.97      0.97       121\n",
      "           1       0.97      0.98      0.97       121\n",
      "\n",
      "    accuracy                           0.97       242\n",
      "   macro avg       0.97      0.97      0.97       242\n",
      "weighted avg       0.97      0.97      0.97       242\n",
      "\n",
      "Classification report of test data :                precision    recall  f1-score   support\n",
      "\n",
      "           0       1.00      0.98      0.99        42\n",
      "           1       0.92      1.00      0.96        12\n",
      "\n",
      "    accuracy                           0.98        54\n",
      "   macro avg       0.96      0.99      0.97        54\n",
      "weighted avg       0.98      0.98      0.98        54\n",
      "\n",
      "Confusion Matrix \n",
      " [[41  1]\n",
      " [ 0 12]]\n"
     ]
    }
   ],
   "source": [
    "#Logistic Regression\n",
    "lg= LogisticRegression()\n",
    "model_selection(lg,x_train_rs,y_train_rs,x_test,y_test)"
   ]
  },
  {
   "cell_type": "code",
   "execution_count": 44,
   "id": "a2175b94",
   "metadata": {},
   "outputs": [
    {
     "name": "stdout",
     "output_type": "stream",
     "text": [
      "Acuraccy of training model : 0.9545454545454546\n",
      "Accuracy of testing model : 0.9444444444444444\n",
      "Classification report of training data :               precision    recall  f1-score   support\n",
      "\n",
      "           0       0.97      0.93      0.95       121\n",
      "           1       0.94      0.98      0.96       121\n",
      "\n",
      "    accuracy                           0.95       242\n",
      "   macro avg       0.96      0.95      0.95       242\n",
      "weighted avg       0.96      0.95      0.95       242\n",
      "\n",
      "Classification report of test data :                precision    recall  f1-score   support\n",
      "\n",
      "           0       0.98      0.95      0.96        42\n",
      "           1       0.85      0.92      0.88        12\n",
      "\n",
      "    accuracy                           0.94        54\n",
      "   macro avg       0.91      0.93      0.92        54\n",
      "weighted avg       0.95      0.94      0.95        54\n",
      "\n",
      "Confusion Matrix \n",
      " [[40  2]\n",
      " [ 1 11]]\n"
     ]
    }
   ],
   "source": [
    "#KNN\n",
    "knn= KNeighborsClassifier()\n",
    "model_selection(knn,x_train_rs,y_train_rs,x_test,y_test)"
   ]
  },
  {
   "cell_type": "code",
   "execution_count": 45,
   "id": "7c4cb971",
   "metadata": {},
   "outputs": [
    {
     "name": "stdout",
     "output_type": "stream",
     "text": [
      "{'algorithm': 'brute', 'leaf_size': 3, 'n_neighbors': 3}\n"
     ]
    }
   ],
   "source": [
    "# Hyperparameter Tuning :\n",
    "\n",
    "parameters = {'algorithm':['kd-tree','brute'],\n",
    "    'leaf_size': range(3,7),\n",
    "    'n_neighbors': range(3,10)\n",
    "    }\n",
    "\n",
    "clf = GridSearchCV(knn,parameters,cv=5)\n",
    "clf.fit(x_train_rs,y_train_rs)\n",
    "print (clf.best_params_)"
   ]
  },
  {
   "cell_type": "code",
   "execution_count": 46,
   "id": "56de18f4",
   "metadata": {},
   "outputs": [
    {
     "name": "stdout",
     "output_type": "stream",
     "text": [
      "Acuraccy of training model : 0.9669421487603306\n",
      "Accuracy of testing model : 0.9629629629629629\n",
      "Classification report of training data :               precision    recall  f1-score   support\n",
      "\n",
      "           0       0.97      0.96      0.97       121\n",
      "           1       0.96      0.98      0.97       121\n",
      "\n",
      "    accuracy                           0.97       242\n",
      "   macro avg       0.97      0.97      0.97       242\n",
      "weighted avg       0.97      0.97      0.97       242\n",
      "\n",
      "Classification report of test data :                precision    recall  f1-score   support\n",
      "\n",
      "           0       0.98      0.98      0.98        42\n",
      "           1       0.92      0.92      0.92        12\n",
      "\n",
      "    accuracy                           0.96        54\n",
      "   macro avg       0.95      0.95      0.95        54\n",
      "weighted avg       0.96      0.96      0.96        54\n",
      "\n",
      "Confusion Matrix \n",
      " [[41  1]\n",
      " [ 1 11]]\n"
     ]
    }
   ],
   "source": [
    "knn1 = KNeighborsClassifier(algorithm='brute',leaf_size=3,n_neighbors=4)\n",
    "model_selection(knn1,x_train_rs,y_train_rs,x_test,y_test)"
   ]
  },
  {
   "cell_type": "code",
   "execution_count": 47,
   "id": "7d6ba135",
   "metadata": {},
   "outputs": [
    {
     "name": "stdout",
     "output_type": "stream",
     "text": [
      "Acuraccy of training model : 1.0\n",
      "Accuracy of testing model : 0.9814814814814815\n",
      "Classification report of training data :               precision    recall  f1-score   support\n",
      "\n",
      "           0       1.00      1.00      1.00       121\n",
      "           1       1.00      1.00      1.00       121\n",
      "\n",
      "    accuracy                           1.00       242\n",
      "   macro avg       1.00      1.00      1.00       242\n",
      "weighted avg       1.00      1.00      1.00       242\n",
      "\n",
      "Classification report of test data :                precision    recall  f1-score   support\n",
      "\n",
      "           0       0.98      1.00      0.99        42\n",
      "           1       1.00      0.92      0.96        12\n",
      "\n",
      "    accuracy                           0.98        54\n",
      "   macro avg       0.99      0.96      0.97        54\n",
      "weighted avg       0.98      0.98      0.98        54\n",
      "\n",
      "Confusion Matrix \n",
      " [[42  0]\n",
      " [ 1 11]]\n"
     ]
    }
   ],
   "source": [
    "#Random Forest \n",
    "rf= RandomForestClassifier()\n",
    "model_selection(rf,x_train_rs,y_train_rs,x_test,y_test)"
   ]
  },
  {
   "cell_type": "code",
   "execution_count": 48,
   "id": "08051cae",
   "metadata": {},
   "outputs": [
    {
     "name": "stdout",
     "output_type": "stream",
     "text": [
      "{'criterion': 'gini', 'max_depth': 8, 'min_samples_leaf': 7, 'min_samples_split': 5, 'n_estimators': 28}\n"
     ]
    }
   ],
   "source": [
    "# Hyperparameter Tuning :\n",
    "\n",
    "parameters = {'n_estimators': range(25,30),\n",
    "    'criterion':['gini','entropy'],\n",
    "    'max_depth': range(8,12),\n",
    "    'min_samples_leaf': range(5,8),\n",
    "    'min_samples_split':range(3,6)\n",
    "    }\n",
    "\n",
    "clf = GridSearchCV(rf,parameters,cv=5)\n",
    "clf.fit(x_train_rs,y_train_rs)\n",
    "print (clf.best_params_)"
   ]
  },
  {
   "cell_type": "code",
   "execution_count": 49,
   "id": "4c482cfd",
   "metadata": {},
   "outputs": [
    {
     "name": "stdout",
     "output_type": "stream",
     "text": [
      "Acuraccy of training model : 0.9545454545454546\n",
      "Accuracy of testing model : 0.9259259259259259\n",
      "Classification report of training data :               precision    recall  f1-score   support\n",
      "\n",
      "           0       0.97      0.94      0.95       121\n",
      "           1       0.94      0.97      0.96       121\n",
      "\n",
      "    accuracy                           0.95       242\n",
      "   macro avg       0.95      0.95      0.95       242\n",
      "weighted avg       0.95      0.95      0.95       242\n",
      "\n",
      "Classification report of test data :                precision    recall  f1-score   support\n",
      "\n",
      "           0       1.00      0.90      0.95        42\n",
      "           1       0.75      1.00      0.86        12\n",
      "\n",
      "    accuracy                           0.93        54\n",
      "   macro avg       0.88      0.95      0.90        54\n",
      "weighted avg       0.94      0.93      0.93        54\n",
      "\n",
      "Confusion Matrix \n",
      " [[38  4]\n",
      " [ 0 12]]\n"
     ]
    }
   ],
   "source": [
    "#Random Forest\n",
    "rf1= RandomForestClassifier(n_estimators=25, criterion= 'gini', max_depth = 11, min_samples_leaf = 7, min_samples_split = 3)\n",
    "model_selection(rf1,x_train_rs,y_train_rs,x_test,y_test)"
   ]
  },
  {
   "cell_type": "code",
   "execution_count": 50,
   "id": "24290786",
   "metadata": {},
   "outputs": [
    {
     "name": "stdout",
     "output_type": "stream",
     "text": [
      "Acuraccy of training model : 0.9793388429752066\n",
      "Accuracy of testing model : 0.9814814814814815\n",
      "Classification report of training data :               precision    recall  f1-score   support\n",
      "\n",
      "           0       0.98      0.98      0.98       121\n",
      "           1       0.98      0.98      0.98       121\n",
      "\n",
      "    accuracy                           0.98       242\n",
      "   macro avg       0.98      0.98      0.98       242\n",
      "weighted avg       0.98      0.98      0.98       242\n",
      "\n",
      "Classification report of test data :                precision    recall  f1-score   support\n",
      "\n",
      "           0       0.98      1.00      0.99        42\n",
      "           1       1.00      0.92      0.96        12\n",
      "\n",
      "    accuracy                           0.98        54\n",
      "   macro avg       0.99      0.96      0.97        54\n",
      "weighted avg       0.98      0.98      0.98        54\n",
      "\n",
      "Confusion Matrix \n",
      " [[42  0]\n",
      " [ 1 11]]\n"
     ]
    }
   ],
   "source": [
    "svc= SVC()\n",
    "model_selection(svc,x_train_rs,y_train_rs,x_test,y_test)"
   ]
  },
  {
   "cell_type": "code",
   "execution_count": 51,
   "id": "9626da5c",
   "metadata": {},
   "outputs": [
    {
     "name": "stdout",
     "output_type": "stream",
     "text": [
      "{'gamma': 'auto', 'kernel': 'rbf', 'max_iter': 30}\n"
     ]
    }
   ],
   "source": [
    "# Hyperparameter Tuning :\n",
    "\n",
    "parameters = {'kernel':['rbf', 'ploy', 'sigmoid'],\n",
    "              'gamma':['auto','scale'],\n",
    "              'max_iter': (30, 75, 100)\n",
    "    }\n",
    "\n",
    "clf = GridSearchCV(svc,parameters,cv=5)\n",
    "clf.fit(x_train_rs,y_train_rs)\n",
    "print (clf.best_params_)"
   ]
  },
  {
   "cell_type": "code",
   "execution_count": 52,
   "id": "47bd08a5",
   "metadata": {},
   "outputs": [
    {
     "name": "stdout",
     "output_type": "stream",
     "text": [
      "Acuraccy of training model : 0.9793388429752066\n",
      "Accuracy of testing model : 0.9814814814814815\n",
      "Classification report of training data :               precision    recall  f1-score   support\n",
      "\n",
      "           0       0.98      0.98      0.98       121\n",
      "           1       0.98      0.98      0.98       121\n",
      "\n",
      "    accuracy                           0.98       242\n",
      "   macro avg       0.98      0.98      0.98       242\n",
      "weighted avg       0.98      0.98      0.98       242\n",
      "\n",
      "Classification report of test data :                precision    recall  f1-score   support\n",
      "\n",
      "           0       0.98      1.00      0.99        42\n",
      "           1       1.00      0.92      0.96        12\n",
      "\n",
      "    accuracy                           0.98        54\n",
      "   macro avg       0.99      0.96      0.97        54\n",
      "weighted avg       0.98      0.98      0.98        54\n",
      "\n",
      "Confusion Matrix \n",
      " [[42  0]\n",
      " [ 1 11]]\n"
     ]
    }
   ],
   "source": [
    "svc1= SVC(gamma = 'auto',kernel= 'rbf',max_iter=30)\n",
    "model_selection(svc1,x_train_rs,y_train_rs,x_test,y_test)"
   ]
  },
  {
   "cell_type": "code",
   "execution_count": 53,
   "id": "c2e57f87",
   "metadata": {},
   "outputs": [
    {
     "data": {
      "text/plain": [
       "<function matplotlib.pyplot.show(close=None, block=None)>"
      ]
     },
     "execution_count": 53,
     "metadata": {},
     "output_type": "execute_result"
    },
    {
     "data": {
      "image/png": "[encoded data removed]",
      "text/plain": [
       "<Figure size 432x288 with 1 Axes>"
      ]
     },
     "metadata": {
      "needs_background": "light"
     },
     "output_type": "display_data"
    },
    {
     "data": {
      "image/png": "[encoded data removed]",
      "text/plain": [
       "<Figure size 432x288 with 1 Axes>"
      ]
     },
     "metadata": {
      "needs_background": "light"
     },
     "output_type": "display_data"
    }
   ],
   "source": [
    "# AUC ROC curve: trainingdata\n",
    "disp = plot_roc_curve(svc,x_train_rs,y_train_rs)\n",
    "plot_roc_curve(knn,x_train_rs,y_train_rs, ax=disp.ax_)\n",
    "plot_roc_curve(lg,x_train_rs,y_train_rs, ax=disp.ax_)\n",
    "plot_roc_curve(rf,x_train_rs,y_train_rs, ax=disp.ax_)\n",
    "plt.legend(prop={'size':10},loc='lower right')\n",
    "plt.show\n",
    "disp1 = plot_roc_curve(svc1,x_train_rs,y_train_rs)\n",
    "plot_roc_curve(knn1,x_train_rs,y_train_rs, ax=disp1.ax_)\n",
    "plot_roc_curve(rf1,x_train_rs,y_train_rs, ax=disp1.ax_)\n",
    "plt.legend(prop={'size':10},loc='lower right')\n",
    "plt.show"
   ]
  },
  {
   "cell_type": "code",
   "execution_count": 54,
   "id": "f14b98c4",
   "metadata": {},
   "outputs": [
    {
     "data": {
      "text/plain": [
       "<function matplotlib.pyplot.show(close=None, block=None)>"
      ]
     },
     "execution_count": 54,
     "metadata": {},
     "output_type": "execute_result"
    },
    {
     "data": {
      "image/png": "[encoded data removed]",
      "text/plain": [
       "<Figure size 432x288 with 1 Axes>"
      ]
     },
     "metadata": {
      "needs_background": "light"
     },
     "output_type": "display_data"
    },
    {
     "data": {
      "image/png": "[encoded data removed]",
      "text/plain": [
       "<Figure size 432x288 with 1 Axes>"
      ]
     },
     "metadata": {
      "needs_background": "light"
     },
     "output_type": "display_data"
    }
   ],
   "source": [
    "#AUC ROC curve : testdata\n",
    "disp = plot_roc_curve(svc,x_test,y_test)\n",
    "plot_roc_curve(knn,x_test,y_test, ax=disp.ax_)\n",
    "plot_roc_curve(lg,x_test,y_test, ax=disp.ax_)\n",
    "plot_roc_curve(rf,x_test,y_test, ax=disp.ax_)\n",
    "plt.legend(prop={'size':10},loc='lower right')\n",
    "plt.show\n",
    "\n",
    "disp1 = plot_roc_curve(svc1,x_test,y_test)\n",
    "plot_roc_curve(knn,x_test,y_test, ax=disp1.ax_)\n",
    "plot_roc_curve(rf,x_test,y_test, ax=disp1.ax_)\n",
    "plt.legend(prop={'size':10},loc='lower right')\n",
    "plt.show"
   ]
  },
  {
   "cell_type": "code",
   "execution_count": 55,
   "id": "fc4dfa62",
   "metadata": {},
   "outputs": [],
   "source": [
    "# Selecting SVC for predicting as it has hte best accuracy and most AUC"
   ]
  },
  {
   "cell_type": "code",
   "execution_count": 56,
   "id": "b7b186e0",
   "metadata": {},
   "outputs": [],
   "source": [
    "# Saving Model\n",
    "import pickle\n",
    "filename= 'Glass.pkl'\n",
    "pickle.dump(svc,open(filename, 'wb'))"
   ]
  },
  {
   "cell_type": "code",
   "execution_count": 57,
   "id": "ae06ebd6",
   "metadata": {},
   "outputs": [
    {
     "data": {
      "text/html": [
       "<div>\n",
       "<style scoped>\n",
       "    .dataframe tbody tr th:only-of-type {\n",
       "        vertical-align: middle;\n",
       "    }\n",
       "\n",
       "    .dataframe tbody tr th {\n",
       "        vertical-align: top;\n",
       "    }\n",
       "\n",
       "    .dataframe thead th {\n",
       "        text-align: right;\n",
       "    }\n",
       "</style>\n",
       "<table border=\"1\" class=\"dataframe\">\n",
       "  <thead>\n",
       "    <tr style=\"text-align: right;\">\n",
       "      <th></th>\n",
       "      <th>Orignal</th>\n",
       "      <th>Predicted</th>\n",
       "    </tr>\n",
       "  </thead>\n",
       "  <tbody>\n",
       "    <tr>\n",
       "      <th>0</th>\n",
       "      <td>0</td>\n",
       "      <td>0</td>\n",
       "    </tr>\n",
       "    <tr>\n",
       "      <th>1</th>\n",
       "      <td>1</td>\n",
       "      <td>1</td>\n",
       "    </tr>\n",
       "    <tr>\n",
       "      <th>2</th>\n",
       "      <td>1</td>\n",
       "      <td>1</td>\n",
       "    </tr>\n",
       "    <tr>\n",
       "      <th>3</th>\n",
       "      <td>0</td>\n",
       "      <td>0</td>\n",
       "    </tr>\n",
       "    <tr>\n",
       "      <th>4</th>\n",
       "      <td>0</td>\n",
       "      <td>0</td>\n",
       "    </tr>\n",
       "    <tr>\n",
       "      <th>5</th>\n",
       "      <td>1</td>\n",
       "      <td>1</td>\n",
       "    </tr>\n",
       "    <tr>\n",
       "      <th>6</th>\n",
       "      <td>0</td>\n",
       "      <td>0</td>\n",
       "    </tr>\n",
       "    <tr>\n",
       "      <th>7</th>\n",
       "      <td>0</td>\n",
       "      <td>0</td>\n",
       "    </tr>\n",
       "    <tr>\n",
       "      <th>8</th>\n",
       "      <td>0</td>\n",
       "      <td>0</td>\n",
       "    </tr>\n",
       "    <tr>\n",
       "      <th>9</th>\n",
       "      <td>1</td>\n",
       "      <td>1</td>\n",
       "    </tr>\n",
       "    <tr>\n",
       "      <th>10</th>\n",
       "      <td>0</td>\n",
       "      <td>0</td>\n",
       "    </tr>\n",
       "    <tr>\n",
       "      <th>11</th>\n",
       "      <td>0</td>\n",
       "      <td>0</td>\n",
       "    </tr>\n",
       "    <tr>\n",
       "      <th>12</th>\n",
       "      <td>0</td>\n",
       "      <td>0</td>\n",
       "    </tr>\n",
       "    <tr>\n",
       "      <th>13</th>\n",
       "      <td>0</td>\n",
       "      <td>0</td>\n",
       "    </tr>\n",
       "    <tr>\n",
       "      <th>14</th>\n",
       "      <td>1</td>\n",
       "      <td>1</td>\n",
       "    </tr>\n",
       "    <tr>\n",
       "      <th>15</th>\n",
       "      <td>1</td>\n",
       "      <td>1</td>\n",
       "    </tr>\n",
       "    <tr>\n",
       "      <th>16</th>\n",
       "      <td>0</td>\n",
       "      <td>0</td>\n",
       "    </tr>\n",
       "    <tr>\n",
       "      <th>17</th>\n",
       "      <td>1</td>\n",
       "      <td>1</td>\n",
       "    </tr>\n",
       "    <tr>\n",
       "      <th>18</th>\n",
       "      <td>0</td>\n",
       "      <td>0</td>\n",
       "    </tr>\n",
       "    <tr>\n",
       "      <th>19</th>\n",
       "      <td>0</td>\n",
       "      <td>0</td>\n",
       "    </tr>\n",
       "    <tr>\n",
       "      <th>20</th>\n",
       "      <td>0</td>\n",
       "      <td>0</td>\n",
       "    </tr>\n",
       "    <tr>\n",
       "      <th>21</th>\n",
       "      <td>0</td>\n",
       "      <td>0</td>\n",
       "    </tr>\n",
       "    <tr>\n",
       "      <th>22</th>\n",
       "      <td>0</td>\n",
       "      <td>0</td>\n",
       "    </tr>\n",
       "    <tr>\n",
       "      <th>23</th>\n",
       "      <td>0</td>\n",
       "      <td>0</td>\n",
       "    </tr>\n",
       "    <tr>\n",
       "      <th>24</th>\n",
       "      <td>1</td>\n",
       "      <td>1</td>\n",
       "    </tr>\n",
       "    <tr>\n",
       "      <th>25</th>\n",
       "      <td>0</td>\n",
       "      <td>0</td>\n",
       "    </tr>\n",
       "    <tr>\n",
       "      <th>26</th>\n",
       "      <td>0</td>\n",
       "      <td>0</td>\n",
       "    </tr>\n",
       "    <tr>\n",
       "      <th>27</th>\n",
       "      <td>0</td>\n",
       "      <td>0</td>\n",
       "    </tr>\n",
       "    <tr>\n",
       "      <th>28</th>\n",
       "      <td>0</td>\n",
       "      <td>0</td>\n",
       "    </tr>\n",
       "    <tr>\n",
       "      <th>29</th>\n",
       "      <td>0</td>\n",
       "      <td>0</td>\n",
       "    </tr>\n",
       "    <tr>\n",
       "      <th>30</th>\n",
       "      <td>0</td>\n",
       "      <td>0</td>\n",
       "    </tr>\n",
       "    <tr>\n",
       "      <th>31</th>\n",
       "      <td>0</td>\n",
       "      <td>0</td>\n",
       "    </tr>\n",
       "    <tr>\n",
       "      <th>32</th>\n",
       "      <td>1</td>\n",
       "      <td>1</td>\n",
       "    </tr>\n",
       "    <tr>\n",
       "      <th>33</th>\n",
       "      <td>0</td>\n",
       "      <td>0</td>\n",
       "    </tr>\n",
       "    <tr>\n",
       "      <th>34</th>\n",
       "      <td>1</td>\n",
       "      <td>1</td>\n",
       "    </tr>\n",
       "    <tr>\n",
       "      <th>35</th>\n",
       "      <td>0</td>\n",
       "      <td>0</td>\n",
       "    </tr>\n",
       "    <tr>\n",
       "      <th>36</th>\n",
       "      <td>0</td>\n",
       "      <td>0</td>\n",
       "    </tr>\n",
       "    <tr>\n",
       "      <th>37</th>\n",
       "      <td>0</td>\n",
       "      <td>0</td>\n",
       "    </tr>\n",
       "    <tr>\n",
       "      <th>38</th>\n",
       "      <td>1</td>\n",
       "      <td>0</td>\n",
       "    </tr>\n",
       "    <tr>\n",
       "      <th>39</th>\n",
       "      <td>0</td>\n",
       "      <td>0</td>\n",
       "    </tr>\n",
       "    <tr>\n",
       "      <th>40</th>\n",
       "      <td>0</td>\n",
       "      <td>0</td>\n",
       "    </tr>\n",
       "    <tr>\n",
       "      <th>41</th>\n",
       "      <td>0</td>\n",
       "      <td>0</td>\n",
       "    </tr>\n",
       "    <tr>\n",
       "      <th>42</th>\n",
       "      <td>0</td>\n",
       "      <td>0</td>\n",
       "    </tr>\n",
       "    <tr>\n",
       "      <th>43</th>\n",
       "      <td>0</td>\n",
       "      <td>0</td>\n",
       "    </tr>\n",
       "    <tr>\n",
       "      <th>44</th>\n",
       "      <td>0</td>\n",
       "      <td>0</td>\n",
       "    </tr>\n",
       "    <tr>\n",
       "      <th>45</th>\n",
       "      <td>0</td>\n",
       "      <td>0</td>\n",
       "    </tr>\n",
       "    <tr>\n",
       "      <th>46</th>\n",
       "      <td>0</td>\n",
       "      <td>0</td>\n",
       "    </tr>\n",
       "    <tr>\n",
       "      <th>47</th>\n",
       "      <td>0</td>\n",
       "      <td>0</td>\n",
       "    </tr>\n",
       "    <tr>\n",
       "      <th>48</th>\n",
       "      <td>0</td>\n",
       "      <td>0</td>\n",
       "    </tr>\n",
       "    <tr>\n",
       "      <th>49</th>\n",
       "      <td>0</td>\n",
       "      <td>0</td>\n",
       "    </tr>\n",
       "    <tr>\n",
       "      <th>50</th>\n",
       "      <td>0</td>\n",
       "      <td>0</td>\n",
       "    </tr>\n",
       "    <tr>\n",
       "      <th>51</th>\n",
       "      <td>1</td>\n",
       "      <td>1</td>\n",
       "    </tr>\n",
       "    <tr>\n",
       "      <th>52</th>\n",
       "      <td>0</td>\n",
       "      <td>0</td>\n",
       "    </tr>\n",
       "    <tr>\n",
       "      <th>53</th>\n",
       "      <td>0</td>\n",
       "      <td>0</td>\n",
       "    </tr>\n",
       "  </tbody>\n",
       "</table>\n",
       "</div>"
      ],
      "text/plain": [
       "    Orignal  Predicted\n",
       "0         0          0\n",
       "1         1          1\n",
       "2         1          1\n",
       "3         0          0\n",
       "4         0          0\n",
       "5         1          1\n",
       "6         0          0\n",
       "7         0          0\n",
       "8         0          0\n",
       "9         1          1\n",
       "10        0          0\n",
       "11        0          0\n",
       "12        0          0\n",
       "13        0          0\n",
       "14        1          1\n",
       "15        1          1\n",
       "16        0          0\n",
       "17        1          1\n",
       "18        0          0\n",
       "19        0          0\n",
       "20        0          0\n",
       "21        0          0\n",
       "22        0          0\n",
       "23        0          0\n",
       "24        1          1\n",
       "25        0          0\n",
       "26        0          0\n",
       "27        0          0\n",
       "28        0          0\n",
       "29        0          0\n",
       "30        0          0\n",
       "31        0          0\n",
       "32        1          1\n",
       "33        0          0\n",
       "34        1          1\n",
       "35        0          0\n",
       "36        0          0\n",
       "37        0          0\n",
       "38        1          0\n",
       "39        0          0\n",
       "40        0          0\n",
       "41        0          0\n",
       "42        0          0\n",
       "43        0          0\n",
       "44        0          0\n",
       "45        0          0\n",
       "46        0          0\n",
       "47        0          0\n",
       "48        0          0\n",
       "49        0          0\n",
       "50        0          0\n",
       "51        1          1\n",
       "52        0          0\n",
       "53        0          0"
      ]
     },
     "execution_count": 57,
     "metadata": {},
     "output_type": "execute_result"
    }
   ],
   "source": [
    "#Conclusion\n",
    "a= np.array(y_test)\n",
    "orignal = a.flatten()\n",
    "predicted=np.array (svc.predict(x_test))\n",
    "df = pd.DataFrame({\"Orignal\":orignal, \"Predicted\":predicted}, index = range(len(a)))\n",
    "df"
   ]
  },
  {
   "cell_type": "code",
   "execution_count": null,
   "id": "941e0461",
   "metadata": {},
   "outputs": [],
   "source": []
  }
 ],
 "metadata": {
  "kernelspec": {
   "display_name": "Python 3 (ipykernel)",
   "language": "python",
   "name": "python3"
  },
  "language_info": {
   "codemirror_mode": {
    "name": "ipython",
    "version": 3
   },
   "file_extension": ".py",
   "mimetype": "text/x-python",
   "name": "python",
   "nbconvert_exporter": "python",
   "pygments_lexer": "ipython3",
   "version": "3.9.12"
  }
 },
 "nbformat": 4,
 "nbformat_minor": 5
}
